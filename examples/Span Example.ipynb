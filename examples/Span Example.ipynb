{
 "cells": [
  {
   "cell_type": "markdown",
   "metadata": {},
   "source": [
    "# Introduction\n",
    "\n",
    "This notebook introduces the library SPAN, a small library designed to make using setools 4 simple in a Jupyter notebook such as this one.\n",
    "\n",
    "Jupyter notebooks are an interactive environment that let's us write text (in Markdown) and code together. What's powerful is that the code is executable (unless you are viewing this on the web in a read-only mode). That let's you write queries and text together at the same time. You can get a feel for what's possible in this awesome notebook on [Regex Golf from XKCD](http://nbviewer.jupyter.org/url/norvig.com/ipython/xkcd1313.ipynb). There is also the more official (and boring) [introduction](https://jupyter-notebook-beginner-guide.readthedocs.io/en/latest/).\n",
    "\n",
    "Using setools within Jupyter notebook is an amazingly productive way to do policy analysis. It becomes simple to keep notes alongside any queries you do or, almost more importantly, write simple scripts that allow you to do more powerful policy analysis.\n",
    "\n",
    "To get started, let's import the library and load a Fedora 25 binary and source policy as an example:"
   ]
  },
  {
   "cell_type": "code",
   "execution_count": null,
   "metadata": {},
   "outputs": [],
   "source": [
    "# Import span - this complication is just to handle running this in the development tree\n",
    "try:\n",
    "    import span as se\n",
    "except:\n",
    "    import os\n",
    "    path = os.path.dirname(os.getcwd())\n",
    "    import sys\n",
    "    sys.path.insert(0, path)\n",
    "    import span as se\n",
    "p = se.load_policy(\"fedora-25-policy.30\")\n",
    "ps = se.load_refpolicy_source(\"serefpolicy-fedora-25\")"
   ]
  },
  {
   "cell_type": "markdown",
   "metadata": {},
   "source": [
    "# Example - Protecting Passwords\n",
    "\n",
    "We'll get to the details of how to use the library soon. But first, let's start with an example to demonstrate some of the power that we get from this environment.\n",
    "\n",
    "Let's do that by answering a common security question: what applications can write to the shadow file and are any of those applications controllable by users?\n",
    "\n",
    "But first, did I mention that we can include images in these notebooks?\n",
    "\n",
    "<img src=\"https://i.imgur.com/D5LidQ1.jpg\">\n",
    "\n",
    "## Domains That Can Write /etc/shadow\n",
    "\n",
    "Anyway, for the first part of that question, we can do a simple search for rules using the method terules_query:"
   ]
  },
  {
   "cell_type": "code",
   "execution_count": null,
   "metadata": {},
   "outputs": [],
   "source": [
    "passwd_writers = p.terules_query(target=\"shadow_t\", tclass=[\"file\"], perms=[\"write\", \"append\", \"relabelto\"])\n",
    "passwd_writers"
   ]
  },
  {
   "cell_type": "markdown",
   "metadata": {},
   "source": [
    "A few things to note about this if you are new to Jupyter notebook. First, by default Jupyter will display the output from the last expression, which is why just putting the variable we assigned the results to on it's own line caused the display. If we didn't need to use the output later we could have just omitted assigning the output to a variable.\n",
    "\n",
    "Next, you'll notice that the output is a nicely formatted table. The results are actually in a Pandas [DataFrame](http://pandas.pydata.org/pandas-docs/stable/dsintro.html). [Pandas](http://pandas.pydata.org) is a common and very powerful data analysis tool for Python. Here it lets us display the data nicely, including allowing sorting (try clicking on the column titles to sort by that column).\n",
    "\n",
    "It also let's us further search. For example, let's see which domains where allowed access directly to `shadow_t` rather than to an attribute that includes `shadow_t`."
   ]
  },
  {
   "cell_type": "code",
   "execution_count": null,
   "metadata": {},
   "outputs": [],
   "source": [
    "passwd_writers[passwd_writers.target == \"shadow_t\"]"
   ]
  },
  {
   "cell_type": "markdown",
   "metadata": {},
   "source": [
    "Just to make certain this is the right type, let's check the filecontexts from the source:"
   ]
  },
  {
   "cell_type": "code",
   "execution_count": null,
   "metadata": {},
   "outputs": [],
   "source": [
    "print(ps.file_contexts(\"shadow_t\"))"
   ]
  },
  {
   "cell_type": "markdown",
   "metadata": {},
   "source": [
    "That looks right . . . I guess. I wonder what the heck `/etc/security/opasswd` is??!? Oh well, it covers good, old-fashioned `/etc/shadow`, so let's move on."
   ]
  },
  {
   "cell_type": "markdown",
   "metadata": {},
   "source": [
    "## Finding Domain Transitions from Login Domains\n",
    "\n",
    "Now we have all of the domains that can write to shadow, so let's answer the second part by determining whether any of the login domains can transition to these domains. Just to keep this short, I'm going to just check for the 3 standard login types (normally you would need to figure out whether there were more).\n",
    "\n",
    "So let's make a list of those types:"
   ]
  },
  {
   "cell_type": "code",
   "execution_count": null,
   "metadata": {},
   "outputs": [],
   "source": [
    "login_domains = [\"user_t\", \"sysadm_t\", \"secadm_t\"]\n",
    "\n",
    "# Just verify that these are in the policy\n",
    "for domain in login_domains:\n",
    "    print(p.lookup_type(domain))"
   ]
  },
  {
   "cell_type": "markdown",
   "metadata": {},
   "source": [
    "Now we can find the domain transitions that are allowed:"
   ]
  },
  {
   "cell_type": "code",
   "execution_count": null,
   "metadata": {},
   "outputs": [],
   "source": [
    "user_transitions = p.terules_query(source=\"user_t\", tclass=[\"process\"], perms=[\"transition\"])\n",
    "user_transitions"
   ]
  },
  {
   "cell_type": "markdown",
   "metadata": {},
   "source": [
    "## Putting It Together - Accessible Domains That Can Write /etc/shadow\n",
    "And now we can see if `user_t` is allowed to transition to any of the domains that can write shadow passwords. To do this, we are going to leverage the built-in sets from Python (which are fantastic). You can get a single column from a DataFrame with `DataFrame.column_name` and, because that is iterable, build a set from that. So we build a set from the targets of the user transitions and the source of the password writers.\n",
    "\n",
    "Once you have the sets it's simple to perform set intersection (with the `&` operator) to find the types that are both sets."
   ]
  },
  {
   "cell_type": "code",
   "execution_count": null,
   "metadata": {},
   "outputs": [],
   "source": [
    "user_passwd_writers = set(user_transitions.target) & set(passwd_writers.source)\n",
    "user_passwd_writers"
   ]
  },
  {
   "cell_type": "markdown",
   "metadata": {},
   "source": [
    "So, as expected, `passwd_t` `updpwd_t` can write to shadow and is accessible from `user_t`. `sandbox_domain` is more surprising.\n",
    "\n",
    "Let's see what types are in that attribute."
   ]
  },
  {
   "cell_type": "code",
   "execution_count": null,
   "metadata": {},
   "outputs": [],
   "source": [
    "p.types_in_attribute(\"sandbox_domain\")"
   ]
  },
  {
   "cell_type": "markdown",
   "metadata": {},
   "source": [
    "## Automating Checks for All Login Domains\n",
    "\n",
    "Wait, you should be saying, we're only answering the question for one login domain! Let's build a simple function to do this for all of the login domains (because that nicely shows the power of having a full programming language right here for analysis)."
   ]
  },
  {
   "cell_type": "code",
   "execution_count": null,
   "metadata": {},
   "outputs": [],
   "source": [
    "# Yeah for stupidly long function names\n",
    "def check_accessible_domains_that_can_write_shadow(login_domains):\n",
    "    for login_domain in login_domains:\n",
    "        # These are the same queries we did above, just using the passed in login domain types as appropriate.\n",
    "        writers = p.terules_query(target=\"shadow_t\", tclass=[\"file\"], perms=[\"write\", \"append\", \"relabelto\"])\n",
    "        accessible_domains = p.terules_query(source=login_domain, tclass=[\"process\"], perms=[\"transition\"])\n",
    "        ad_set = set(accessible_domains.target)\n",
    "        # Add the login domain to see if it has direct access.\n",
    "        #\n",
    "        # Since we are doing comparisons it must be the object here and _not_ the\n",
    "        # string for the type. These kinds of issues crop up occasionally so keep an eye out for them.\n",
    "        ad_set.add(p.lookup_type(login_domain))\n",
    "        print(\"Shadow writers accessible by \" + login_domain + \":\")\n",
    "        print(ad_set & set(writers.source))\n",
    "        \n",
    "# Notice how I'm referring to a list that we created way up the page?\n",
    "check_accessible_domains_that_can_write_shadow(login_domains)"
   ]
  },
  {
   "cell_type": "markdown",
   "metadata": {},
   "source": [
    "Look at that - both `secadm_t` and `sysadm_t` have direct access. Let's see what that looks like."
   ]
  },
  {
   "cell_type": "code",
   "execution_count": null,
   "metadata": {},
   "outputs": [],
   "source": [
    "passwd_writers[passwd_writers.source == \"sysadm_t\"]"
   ]
  },
  {
   "cell_type": "markdown",
   "metadata": {},
   "source": [
    "And the moral of the story, kids, is never forget about broad relabeling privileges. Being able to relabel a file to a type has the same security implications as writing the same type. Though, come to think of it, you have to also be able to create a file in `/etc` with the correct name. Let's check that."
   ]
  },
  {
   "cell_type": "code",
   "execution_count": null,
   "metadata": {},
   "outputs": [],
   "source": [
    "p.terules_query(source=\"sysadm_t\", target=\"etc_t\", perms=[\"add_name\"])"
   ]
  },
  {
   "cell_type": "markdown",
   "metadata": {},
   "source": [
    "## Checking Automatic Transitions\n",
    "\n",
    "Notice that we only checked for _allowed_ transitions. We didn't see if any where automatic. Let's do that now."
   ]
  },
  {
   "cell_type": "code",
   "execution_count": null,
   "metadata": {},
   "outputs": [],
   "source": [
    "automatic_transitions = p.transrules_query(source=\"user_t\", tclass=[\"process\"])\n",
    "automatic_transitions"
   ]
  },
  {
   "cell_type": "markdown",
   "metadata": {},
   "source": [
    "And using the same approach with sets, we can see if any of those transitions are automatic (just for `user_t` for now)."
   ]
  },
  {
   "cell_type": "code",
   "execution_count": null,
   "metadata": {},
   "outputs": [],
   "source": [
    "set(automatic_transitions.default) & user_passwd_writers"
   ]
  },
  {
   "cell_type": "markdown",
   "metadata": {},
   "source": [
    "Hmmm - wasn't one of those an attribute? And the default type of a transition rule can't be an attribute.\n",
    "\n",
    "Let's try that again, but expand attributes."
   ]
  },
  {
   "cell_type": "code",
   "execution_count": null,
   "metadata": {},
   "outputs": [],
   "source": [
    "expanded_writers = p.expand_attributes(user_passwd_writers)\n",
    "print(\"with attributes expanded: \" + str(expanded_writers))\n",
    "        \n",
    "set(automatic_transitions.default) & expanded_writers"
   ]
  },
  {
   "cell_type": "markdown",
   "metadata": {},
   "source": [
    "Well - doesn't look like that's an automatic transition (which isn't surprising). But I included this example to remind you to be careful about attributes. The rule searching will check attributes for you by default, but you have to be careful in your own code."
   ]
  },
  {
   "cell_type": "markdown",
   "metadata": {},
   "source": [
    "## Wrapping Up - Entrypoints and Userspace Checks\n",
    "\n",
    "Two last things.\n",
    "\n",
    "First - let's see the entrypoints for these domains. I'm including this because I _never_ get tired of bringing this up. It's critical to know what code runs in a domain because that's how you know whether you should trust that code with the access granted to the domain."
   ]
  },
  {
   "cell_type": "code",
   "execution_count": null,
   "metadata": {},
   "outputs": [],
   "source": [
    "# This will handle the sandbox_domain attribute for us automatically in that the domain will be matched as well\n",
    "# as any types with that attribute with rules explicitly referencing them.\n",
    "p.terules_query(source=user_passwd_writers, tclass=[\"file\"], perms=[\"entrypoint\"])"
   ]
  },
  {
   "cell_type": "markdown",
   "metadata": {},
   "source": [
    "Well - sandbox_domain is certainly concerning. I'm certain that the magic of containers is all good though.\n",
    "\n",
    "Let's check the file contexts for the normal ones."
   ]
  },
  {
   "cell_type": "code",
   "execution_count": null,
   "metadata": {},
   "outputs": [],
   "source": [
    "print(ps.file_contexts(\"passwd_exec_t\"))\n",
    "print(ps.file_contexts(\"updpwd_exec_t\"))"
   ]
  },
  {
   "cell_type": "markdown",
   "metadata": {},
   "source": [
    "Last thing - there is a userspace permission for changing _other_ users' passwords (which is what really matters here). I know that /bin/passwd checks this, but I'm not certain about things like /sbin/unix_update. But that's what this analysis is for - it tells us what code to go off an audit for trustworthiness.\n",
    "\n",
    "So let's check the userspace permission for our login types."
   ]
  },
  {
   "cell_type": "code",
   "execution_count": null,
   "metadata": {},
   "outputs": [],
   "source": [
    "p.terules_query(source=login_domains, tclass=[\"passwd\"])"
   ]
  },
  {
   "cell_type": "markdown",
   "metadata": {},
   "source": [
    "Just what we would expect - `user_t` is not allowed to change other users' passwords.\n",
    "\n",
    "So at the end of this things are basically what I would have expected with the exception of sandbox_domain (which I'm pretty sure is fine, but I don't understand well enough to know for sure)."
   ]
  },
  {
   "cell_type": "markdown",
   "metadata": {},
   "source": [
    "# Reference Documentation\n",
    "\n",
    "Some documentation on what's possible. This isn't exhaustive - mainly because it doesn't cover everything that Setools offers. One important note is that the policy object returned by `se.load_policy` is a subclass of the Setools policy object. All of the public methods from that class are available - you can see them at https://github.com/TresysTechnology/setools/blob/master/setools/policyrep/selinuxpolicy.py."
   ]
  },
  {
   "cell_type": "markdown",
   "metadata": {},
   "source": [
    "\n",
    "## Type and Attribute Searching\n",
    "Find types by name"
   ]
  },
  {
   "cell_type": "code",
   "execution_count": null,
   "metadata": {},
   "outputs": [],
   "source": [
    "p.lookup_type(\"smbd_t\")"
   ]
  },
  {
   "cell_type": "markdown",
   "metadata": {},
   "source": [
    "Find types by regex"
   ]
  },
  {
   "cell_type": "code",
   "execution_count": null,
   "metadata": {},
   "outputs": [],
   "source": [
    "p.types_re(\"smbd\")"
   ]
  },
  {
   "cell_type": "markdown",
   "metadata": {},
   "source": [
    "The return from these functions is an object (even though it is rendered as a string here). You can, for example, show the attributes for a type by calling a method on the returned object."
   ]
  },
  {
   "cell_type": "code",
   "execution_count": null,
   "metadata": {},
   "outputs": [],
   "source": [
    "sorted(p.lookup_type(\"smbd_t\").attributes())"
   ]
  },
  {
   "cell_type": "markdown",
   "metadata": {},
   "source": [
    "Notice that the output was sorted. This is both because it's nice for the output to be sorted, but also because most of the results from setools return generator functions instead of lists. That makes their output less convenient for use in jupyter notebook. For example, this is the output from the previous example not sorted."
   ]
  },
  {
   "cell_type": "code",
   "execution_count": null,
   "metadata": {},
   "outputs": [],
   "source": [
    "p.lookup_type(\"smbd_t\").attributes()"
   ]
  },
  {
   "cell_type": "markdown",
   "metadata": {},
   "source": [
    "Because of this, we provide some convenience fucntions that simply make the output niecer. For example, find the attributes for a types:"
   ]
  },
  {
   "cell_type": "code",
   "execution_count": null,
   "metadata": {},
   "outputs": [],
   "source": [
    "p.attributes_for_type(\"smbd_t\")"
   ]
  },
  {
   "cell_type": "markdown",
   "metadata": {},
   "source": [
    "Find all of the types in an attribute:"
   ]
  },
  {
   "cell_type": "code",
   "execution_count": null,
   "metadata": {},
   "outputs": [],
   "source": [
    "p.types_in_attribute(\"files_unconfined_type\")"
   ]
  },
  {
   "cell_type": "markdown",
   "metadata": {},
   "source": [
    "Attributes by regex"
   ]
  },
  {
   "cell_type": "code",
   "execution_count": null,
   "metadata": {},
   "outputs": [],
   "source": [
    "p.attributes_re(\"unconfined\")"
   ]
  },
  {
   "cell_type": "markdown",
   "metadata": {},
   "source": [
    "Lookup an attribute by name"
   ]
  },
  {
   "cell_type": "code",
   "execution_count": null,
   "metadata": {},
   "outputs": [],
   "source": [
    "p.lookup_typeattr(\"domain\")"
   ]
  },
  {
   "cell_type": "markdown",
   "metadata": {},
   "source": [
    "Expand attribtutes in a list (this will be really long). The list can contain both types and attributes - it just returns the types unchanged into the output list."
   ]
  },
  {
   "cell_type": "code",
   "execution_count": null,
   "metadata": {},
   "outputs": [],
   "source": [
    "p.expand_attributes([p.lookup_type(\"smbd_t\"), p.lookup_typeattr(\"domain\")])"
   ]
  },
  {
   "cell_type": "markdown",
   "metadata": {},
   "source": [
    "Lookup types or attributes from a list of strings."
   ]
  },
  {
   "cell_type": "code",
   "execution_count": null,
   "metadata": {},
   "outputs": [],
   "source": [
    "p.lookup_type_or_attrs([\"smbd_t\", \"domain\"])"
   ]
  },
  {
   "cell_type": "markdown",
   "metadata": {},
   "source": [
    "## Roles"
   ]
  },
  {
   "cell_type": "markdown",
   "metadata": {},
   "source": [
    "Find roles - this is just a convenience wrapper around https://github.com/TresysTechnology/setools/blob/master/setools/rolequery.py."
   ]
  },
  {
   "cell_type": "code",
   "execution_count": null,
   "metadata": {},
   "outputs": [],
   "source": [
    "p.roles_query(name=\"sysadm_r\")"
   ]
  },
  {
   "cell_type": "code",
   "execution_count": null,
   "metadata": {},
   "outputs": [],
   "source": [
    "p.types_in_role(\"sysadm_r\")"
   ]
  },
  {
   "cell_type": "code",
   "execution_count": null,
   "metadata": {},
   "outputs": [],
   "source": [
    "p.roles_for_type(\"smbd_t\")"
   ]
  },
  {
   "cell_type": "markdown",
   "metadata": {},
   "source": [
    "## Rule Searching\n",
    "\n",
    "These two methods are wrappers around an implementation that matches the API for Setools TERuleQuery, so the best documentation is at https://github.com/TresysTechnology/setools/blob/master/setools/terulequery.py.\n",
    "\n",
    "One major API difference is that source and target paramaters can take a single type/attribute, string, or list.\n",
    "\n",
    "The other difference is speed. This implementation is often 30x faster. It does fully pass the unit tests for the Setools implementation, so it is fast and API compliant. The speedup comes from the use of an index, so the first rule search after a policy is loaded will build the index (which can take a few seconds). Subsequent queries reuse the index."
   ]
  },
  {
   "cell_type": "code",
   "execution_count": null,
   "metadata": {},
   "outputs": [],
   "source": [
    "p.terules_query(target=\"shadow_t\", perms=se.file_w_perms)"
   ]
  },
  {
   "cell_type": "code",
   "execution_count": null,
   "metadata": {},
   "outputs": [],
   "source": [
    "# Search with a list for the target\n",
    "p.terules_query(target=[\"ssh_home_t\", \"sshd_key_t\"], perms=[\"write\", \"append\"])"
   ]
  },
  {
   "cell_type": "code",
   "execution_count": null,
   "metadata": {},
   "outputs": [],
   "source": [
    "p.transrules_query(source=\"initrc_t\", default=\"smbd_t\", tclass=[\"process\"])"
   ]
  },
  {
   "cell_type": "markdown",
   "metadata": {},
   "source": [
    "## Information Flow\n",
    "\n",
    "The information flow queries allow you to focus more on the types and object classes without worrying so much about the details of the permissions. You can, instead, think in terms of read, write, or both.\n",
    "\n",
    "For exampe, `domain_info_flow` shows all of the object types that a domain can read, write, or both."
   ]
  },
  {
   "cell_type": "code",
   "execution_count": null,
   "metadata": {},
   "outputs": [],
   "source": [
    "# By default this shows writes.\n",
    "p.domain_info_flow(\"smbd_t\", tclass=[\"file\"])"
   ]
  },
  {
   "cell_type": "code",
   "execution_count": null,
   "metadata": {},
   "outputs": [],
   "source": [
    "# Show reads instead\n",
    "p.domain_info_flow(\"smbd_t\", tclass=[\"file\"], direction=\"r\")"
   ]
  },
  {
   "cell_type": "markdown",
   "metadata": {},
   "source": [
    "The information flow is weighted by bandwidth on a scale from 1 to 10. 10 would be something like `read` or `write`, while lower bandwidth permissions, like `getattr` would be lower.\n",
    "\n",
    "Here we set the minimum weight lower and show the additional types that returns."
   ]
  },
  {
   "cell_type": "code",
   "execution_count": null,
   "metadata": {},
   "outputs": [],
   "source": [
    "set(p.domain_info_flow(\"NetworkManager_t\", min_weight=1).Type) - set(p.domain_info_flow(\"NetworkManager_t\").Type)"
   ]
  },
  {
   "cell_type": "markdown",
   "metadata": {},
   "source": [
    "You can also look from the other direction - the perspective of the object."
   ]
  },
  {
   "cell_type": "code",
   "execution_count": null,
   "metadata": {},
   "outputs": [],
   "source": [
    "p.object_info_flow(\"bin_t\")"
   ]
  },
  {
   "cell_type": "markdown",
   "metadata": {},
   "source": [
    "The concept of read and write works for non-file-like object classes as well."
   ]
  },
  {
   "cell_type": "code",
   "execution_count": null,
   "metadata": {},
   "outputs": [],
   "source": [
    "p.domain_info_flow(\"smbd_t\", tclass=[\"packet\"])"
   ]
  },
  {
   "cell_type": "markdown",
   "metadata": {},
   "source": [
    "You can see which permissions are included with `info_flow_perms`."
   ]
  },
  {
   "cell_type": "code",
   "execution_count": null,
   "metadata": {},
   "outputs": [],
   "source": [
    "p.info_flow_perms(tclass=[\"dir\"], min_weight=1)"
   ]
  },
  {
   "cell_type": "code",
   "execution_count": null,
   "metadata": {},
   "outputs": [],
   "source": [
    "p.info_flow_perms(tclass=[\"dir\"], min_weight=10)"
   ]
  },
  {
   "cell_type": "markdown",
   "metadata": {},
   "source": [
    "## Summaries\n",
    "\n",
    "These are a quick way to gather related information about something in the policy."
   ]
  },
  {
   "cell_type": "code",
   "execution_count": null,
   "metadata": {},
   "outputs": [],
   "source": [
    "p.types_summary(p.types_re(\"smb\"))"
   ]
  },
  {
   "cell_type": "code",
   "execution_count": null,
   "metadata": {},
   "outputs": [],
   "source": [
    "p.domain_summary(\"httpd_t\")"
   ]
  },
  {
   "cell_type": "code",
   "execution_count": null,
   "metadata": {},
   "outputs": [],
   "source": [
    "p.attribute_summary(\"domain\")"
   ]
  },
  {
   "cell_type": "code",
   "execution_count": null,
   "metadata": {},
   "outputs": [],
   "source": [
    "p.file_summary(\"bin_t\")"
   ]
  },
  {
   "cell_type": "code",
   "execution_count": null,
   "metadata": {},
   "outputs": [],
   "source": [
    "p.packet_summary(\"dns_client_packet_t\")"
   ]
  },
  {
   "cell_type": "markdown",
   "metadata": {},
   "source": [
    "# Policy Source"
   ]
  },
  {
   "cell_type": "markdown",
   "metadata": {},
   "source": [
    "Find a type definition"
   ]
  },
  {
   "cell_type": "code",
   "execution_count": null,
   "metadata": {},
   "outputs": [],
   "source": [
    "# note the use of print to make this look nice\n",
    "print(ps.type_def(\"kernel_t\"))"
   ]
  },
  {
   "cell_type": "code",
   "execution_count": null,
   "metadata": {},
   "outputs": [],
   "source": [
    "print(ps.attr_def(\"domain\"))"
   ]
  },
  {
   "cell_type": "code",
   "execution_count": null,
   "metadata": {},
   "outputs": [],
   "source": [
    "ps.genfscon(\"selinuxfs\")"
   ]
  },
  {
   "cell_type": "code",
   "execution_count": null,
   "metadata": {},
   "outputs": [],
   "source": [
    "print(ps.file_contexts(\"httpd_exec_t\"))"
   ]
  },
  {
   "cell_type": "markdown",
   "metadata": {},
   "source": [
    "Search for rules (this is just grep really)"
   ]
  },
  {
   "cell_type": "code",
   "execution_count": null,
   "metadata": {},
   "outputs": [],
   "source": [
    "print(ps.rules_search(\"allow sshd_t\"))"
   ]
  },
  {
   "cell_type": "markdown",
   "metadata": {},
   "source": [
    "Show an entire module"
   ]
  },
  {
   "cell_type": "code",
   "execution_count": null,
   "metadata": {},
   "outputs": [],
   "source": [
    "print(ps.get_module(\"services/ssh.te\"))"
   ]
  }
 ],
 "metadata": {
  "language_info": {
   "name": "python",
   "pygments_lexer": "ipython3"
  }
 },
 "nbformat": 4,
 "nbformat_minor": 1
}
